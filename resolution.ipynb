{
 "cells": [
  {
   "cell_type": "code",
   "execution_count": 10,
   "metadata": {},
   "outputs": [
    {
     "data": {
      "text/plain": [
       "'Pertence a serie'"
      ]
     },
     "execution_count": 10,
     "metadata": {},
     "output_type": "execute_result"
    }
   ],
   "source": [
    "'''\n",
    "    This program search a number in serie fibo\n",
    "    author: Leonel Caetano / Marimba\n",
    "'''\n",
    "\n",
    "#Quetion 2\n",
    "\n",
    "def fibo(element):\n",
    "    first, second = 0 , 1\n",
    "    serie = 0\n",
    "\n",
    "    while serie < element:\n",
    "        serie = first + second\n",
    "        first = second\n",
    "        second = serie\n",
    "       # print (serie)\n",
    "    return \"Pertence a serie\" if (serie == element) else \"não pertence a serie\"\n",
    "\n",
    "fibo(int(input(\"Digite algum numero\")))"
   ]
  },
  {
   "cell_type": "code",
   "execution_count": null,
   "metadata": {},
   "outputs": [],
   "source": [
    "#Quetion 3\n",
    "\n",
    "a) 1, 3, 5, 7, _9__  -> sn = 2 * sn - 1\n",
    "\n",
    "b) 2, 4, 8, 16, 32, 64, __128__  -> sn = 2 * sn\n",
    "\n",
    "c) 0, 1, 4, 9, 16, 25, 36, __49__  -> sn = n^2\n",
    "\n",
    "d) 4, 16, 36, 64, __256__  -> sn = 4^n\n",
    "\n",
    "e) 1, 1, 2, 3, 5, 8, __13__  -> sn = s(n+1) + s(n+2)\n",
    "\n",
    "f) 2,10, 12, 16, 17, 18, 19, __20__  "
   ]
  },
  {
   "cell_type": "code",
   "execution_count": null,
   "metadata": {},
   "outputs": [],
   "source": [
    "Quetion4 \n",
    "\n",
    "'''\n",
    "Para descobrir qual interruptor liga qual lampada com apenas duas idas, eu desligaria dois interruptor simultaneamente na primeira ida, desse\n",
    "jeito saberia qual dos tres interruptor controla uma das lampadas e na segunda ida desligaria oque que estava ligado e ligaria um dos desligados\n",
    "desse jeito saberia a posição deles todos \n",
    "'''"
   ]
  },
  {
   "cell_type": "code",
   "execution_count": 22,
   "metadata": {},
   "outputs": [
    {
     "name": "stdout",
     "output_type": "stream",
     "text": [
      "lenoel\n"
     ]
    }
   ],
   "source": [
    "'''\n",
    "    Invert String\n",
    "    Leonel Caetano\n",
    "'''\n",
    "def invert(string):\n",
    "    tamanho = len(string) - 1 #get valid position\n",
    "    new_string = \"\"\n",
    "    while tamanho > -1:\n",
    "        new_string += string[tamanho]\n",
    "        tamanho -= 1\n",
    "    string = new_string\n",
    "\n",
    "invert(input(\"Digite o valor: \"))"
   ]
  },
  {
   "cell_type": "code",
   "execution_count": null,
   "metadata": {},
   "outputs": [],
   "source": [
    "#Quetion 1\n",
    "\n",
    " \tint INDICE = 13, SOMA = 0, K = 0; \n",
    "\n",
    " \tenquanto K < INDICE faça \n",
    "\n",
    "\t{ \n",
    "\n",
    "\t\tK = K + 1; \n",
    "\n",
    "\t\tSOMA = SOMA + K; \n",
    "\n",
    "\t} \n",
    "\n",
    " \timprimir(SOMA); \n",
    "\n",
    "\n",
    "'''\n",
    "int soma()\n",
    "{\n",
    "    int indice = 13, sum = 0, k = 0;\n",
    "\n",
    "    while (k < indice)\n",
    "    {\n",
    "        k ++;\n",
    "        sum += k;\n",
    "    }\n",
    "\n",
    "    printf(\"soma: %d %d \", sum, k);\n",
    "}\n",
    "Fuction que usei para saber o valor\n",
    "'''\n",
    "\n",
    "Resposta:  Soma = 91"
   ]
  }
 ],
 "metadata": {
  "kernelspec": {
   "display_name": "Python 3",
   "language": "python",
   "name": "python3"
  },
  "language_info": {
   "codemirror_mode": {
    "name": "ipython",
    "version": 3
   },
   "file_extension": ".py",
   "mimetype": "text/x-python",
   "name": "python",
   "nbconvert_exporter": "python",
   "pygments_lexer": "ipython3",
   "version": "3.10.12"
  }
 },
 "nbformat": 4,
 "nbformat_minor": 2
}
